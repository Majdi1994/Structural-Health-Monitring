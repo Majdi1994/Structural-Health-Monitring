{
 "cells": [
  {
   "cell_type": "code",
   "execution_count": 2,
   "metadata": {},
   "outputs": [],
   "source": [
    "import torch\n",
    "from torch.utils.data import DataLoader\n",
    "from torch.utils.data import Dataset\n",
    "class MyDataset(Dataset):\n",
    "    def __init__(self, data, labels):\n",
    "        \"\"\"Reads source and target sequences from processing file .\"\"\"\n",
    "        self.input_tensor = (torch.from_numpy(data)).float()\n",
    "\n",
    "        self.label = (torch.torch.FloatTensor(labels))\n",
    "        self.num_total_seqs = len(self.input_tensor)\n",
    "\n",
    "    def __getitem__(self, index):\n",
    "        \"\"\"Returns one data pair (source and target).\"\"\"\n",
    "        input_seq = self.input_tensor[index]\n",
    "        input_labels = self.label[index]\n",
    "        return input_seq, input_labels\n",
    "\n",
    "    def __len__(self):\n",
    "        return self.num_total_seqs"
   ]
  }
 ],
 "metadata": {
  "kernelspec": {
   "display_name": "Python 3",
   "language": "python",
   "name": "python3"
  },
  "language_info": {
   "codemirror_mode": {
    "name": "ipython",
    "version": 3
   },
   "file_extension": ".py",
   "mimetype": "text/x-python",
   "name": "python",
   "nbconvert_exporter": "python",
   "pygments_lexer": "ipython3",
   "version": "3.7.5"
  }
 },
 "nbformat": 4,
 "nbformat_minor": 2
}
